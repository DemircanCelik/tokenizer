{
 "cells": [
  {
   "cell_type": "code",
   "execution_count": 10,
   "metadata": {},
   "outputs": [],
   "source": [
    "import requests\n",
    "\n",
    "cookies = {\n",
    "    'JSESSIONID': '09AEBC57DB58E2665B86735463C31A04',\n",
    "    '_ga_SK0P46Z03T': 'GS1.1.1736071923.1.1.1736071963.0.0.0',\n",
    "    '_ga': 'GA1.3.1066067018.1731827532',\n",
    "    '_ga_KFJXWPBN67': 'GS1.1.1731827532.1.1.1731827554.0.0.0',\n",
    "}\n",
    "\n",
    "headers = {\n",
    "    'Accept': 'text/html,application/xhtml+xml,application/xml;q=0.9,*/*;q=0.8',\n",
    "    # 'Cookie': 'JSESSIONID=09AEBC57DB58E2665B86735463C31A04; _ga_SK0P46Z03T=GS1.1.1736071923.1.1.1736071963.0.0.0; _ga=GA1.3.1066067018.1731827532; _ga_KFJXWPBN67=GS1.1.1731827532.1.1.1731827554.0.0.0',\n",
    "    # 'Accept-Encoding': 'gzip, deflate',\n",
    "    'Upgrade-Insecure-Requests': '1',\n",
    "    'User-Agent': 'Mozilla/5.0 (Macintosh; Intel Mac OS X 10_15_7) AppleWebKit/605.1.15 (KHTML, like Gecko) Version/18.2 Safari/605.1.15',\n",
    "    'Accept-Language': 'en-US,en;q=0.9',\n",
    "    'Connection': 'keep-alive',\n",
    "    'Priority': 'u=0, i',\n",
    "}\n",
    "\n",
    "response = requests.get('http://tools.nlp.itu.edu.tr/IsTurkish', cookies=cookies, headers=headers)"
   ]
  },
  {
   "cell_type": "code",
   "execution_count": 11,
   "metadata": {},
   "outputs": [],
   "source": [
    "import re\n",
    "def is_turkish(text):\n",
    "    # <textarea name=\"output\" class=\"text_area\" wrap=\"off\">zeynep: false\\r\\n</textarea>\n",
    "    match = re.search(r'<textarea name=\"output\" class=\"text_area\" wrap=\"off\">(.+): (.+)\\r\\n</textarea>', text)\n",
    "    if match:\n",
    "        return match.group(2) == 'true'\n",
    "    return False"
   ]
  },
  {
   "cell_type": "code",
   "execution_count": 12,
   "metadata": {},
   "outputs": [],
   "source": [
    "def check_is_turkish(word):\n",
    "    data = {\n",
    "        'input': word\n",
    "    }\n",
    "    response = requests.post('http://tools.nlp.itu.edu.tr/IsTurkish', cookies=cookies, headers=headers, data=data, verify=False)\n",
    "    return is_turkish(response.text)\n"
   ]
  },
  {
   "cell_type": "code",
   "execution_count": 13,
   "metadata": {},
   "outputs": [
    {
     "data": {
      "text/plain": [
       "True"
      ]
     },
     "execution_count": 13,
     "metadata": {},
     "output_type": "execute_result"
    }
   ],
   "source": [
    "check_is_turkish('araba')"
   ]
  },
  {
   "cell_type": "code",
   "execution_count": 5,
   "metadata": {},
   "outputs": [],
   "source": [
    "import json\n",
    "\n",
    "with open('unlu_dusmeli_v02.json') as f:\n",
    "    data = json.load(f)"
   ]
  },
  {
   "cell_type": "code",
   "execution_count": 14,
   "metadata": {},
   "outputs": [],
   "source": [
    "ndict = {}\n",
    "unluler = [\"a\",\"e\",\"ı\",\"i\",\"o\",\"ö\",\"u\",\"ü\"]\n",
    "for word in list(data.keys()):\n",
    "    if ndict.get(word):\n",
    "        continue\n",
    "\n",
    "    ndict[word] = data[word]\n",
    "\n",
    "    if word[-1] in \"pçtk\":\n",
    "        if(word[-1] == \"p\"):\n",
    "            nw = word[:-1] + \"b\"\n",
    "        if(word[-1] == \"ç\"):\n",
    "            nw = word[:-1] + \"c\"\n",
    "        if(word[-1] == \"t\"):\n",
    "            nw = word[:-1] + \"d\"\n",
    "        if(word[-1] == \"k\"):\n",
    "            nw = word[:-1] + \"ğ\"\n",
    "\n",
    "        for unlu in unluler:\n",
    "            if check_is_turkish(nw + unlu):\n",
    "                ndict[nw] = data[word]\n",
    "                break                   \n",
    "    "
   ]
  },
  {
   "cell_type": "code",
   "execution_count": 15,
   "metadata": {},
   "outputs": [],
   "source": [
    "with open ('unsuz_yumusamalı_v03.ipynb.json','w') as f:\n",
    "    json.dump(ndict,f,ensure_ascii=False)\n"
   ]
  }
 ],
 "metadata": {
  "kernelspec": {
   "display_name": "Python 3",
   "language": "python",
   "name": "python3"
  },
  "language_info": {
   "codemirror_mode": {
    "name": "ipython",
    "version": 3
   },
   "file_extension": ".py",
   "mimetype": "text/x-python",
   "name": "python",
   "nbconvert_exporter": "python",
   "pygments_lexer": "ipython3",
   "version": "3.11.4"
  }
 },
 "nbformat": 4,
 "nbformat_minor": 2
}
