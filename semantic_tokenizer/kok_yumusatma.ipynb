{
 "cells": [
  {
   "cell_type": "code",
   "execution_count": 1,
   "metadata": {},
   "outputs": [],
   "source": [
    "import json\n",
    "\n",
    "with open(\"./kokler_v01.json\", \"r\") as f:\n",
    "    kokler = json.load(f)\n",
    "kokler = kokler.keys()"
   ]
  },
  {
   "cell_type": "code",
   "execution_count": 2,
   "metadata": {},
   "outputs": [
    {
     "data": {
      "text/plain": [
       "19855"
      ]
     },
     "execution_count": 2,
     "metadata": {},
     "output_type": "execute_result"
    }
   ],
   "source": [
    "kokler = list(kokler)\n",
    "new_ids = {}\n",
    "\n",
    "for i in range(1, len(kokler)):\n",
    "    new_ids[kokler[i]] = i\n",
    "len(new_ids)"
   ]
  },
  {
   "cell_type": "code",
   "execution_count": 3,
   "metadata": {},
   "outputs": [],
   "source": [
    "vowels = [\"a\", \"e\", \"ı\", \"i\", \"o\", \"ö\", \"u\", \"ü\"]\n",
    "\n",
    "for kok in kokler:\n",
    "    count = 0\n",
    "    eski_kok = kok\n",
    "    for vowel in vowels:\n",
    "        if vowel in kok:\n",
    "            count += 1\n",
    "    if count > 1:\n",
    "        match kok[-1]:\n",
    "            case \"p\":\n",
    "                kok = kok[:-1]\n",
    "                kok = kok + \"b\"\n",
    "                new_ids[kok] = new_ids[eski_kok]\n",
    "            case \"ç\":\n",
    "                kok = kok[:-1]\n",
    "                kok = kok + \"c\"\n",
    "                new_ids[kok] = new_ids[eski_kok]\n",
    "            case \"t\":\n",
    "                kok = kok[:-1]\n",
    "                kok = kok + \"d\"\n",
    "                new_ids[kok] = new_ids[eski_kok]\n",
    "            case \"k\":\n",
    "                kok = kok[:-1]\n",
    "                kok = kok + \"ğ\"\n",
    "                new_ids[kok] = new_ids[eski_kok]\n",
    "    \n"
   ]
  },
  {
   "cell_type": "code",
   "execution_count": 4,
   "metadata": {},
   "outputs": [],
   "source": [
    "with open(\"./kokler_v02.json\", \"w\") as file:\n",
    "    json.dump(new_ids, file, indent=4, ensure_ascii=False)"
   ]
  }
 ],
 "metadata": {
  "kernelspec": {
   "display_name": "Python 3",
   "language": "python",
   "name": "python3"
  },
  "language_info": {
   "codemirror_mode": {
    "name": "ipython",
    "version": 3
   },
   "file_extension": ".py",
   "mimetype": "text/x-python",
   "name": "python",
   "nbconvert_exporter": "python",
   "pygments_lexer": "ipython3",
   "version": "3.12.5"
  }
 },
 "nbformat": 4,
 "nbformat_minor": 2
}
