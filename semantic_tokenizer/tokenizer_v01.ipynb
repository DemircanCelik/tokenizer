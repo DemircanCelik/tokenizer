{
 "cells": [
  {
   "cell_type": "code",
   "execution_count": 6,
   "metadata": {},
   "outputs": [],
   "source": [
    "import json\n",
    "\n",
    "with open('kokler_v01.json', 'r') as f:\n",
    "    kokler_dict = json.load(f)\n",
    "\n",
    "with open('ekler_v01.json', 'r') as f:\n",
    "    ekler_dict = json.load(f)"
   ]
  },
  {
   "cell_type": "code",
   "execution_count": 7,
   "metadata": {},
   "outputs": [],
   "source": [
    "ornek = \"\"\"\n",
    "Bir maddenin yanması ile çıkan ve içinde katı zerrelerle buğu bulunan değişik renklerde gaz;\n",
    "tütün isim Havalanan tozların veya sisin oluşturduğu bulanıklık Köyünün üstüne boz bir duman çökmüştü.\n",
    "Yaşar Kemal Çok kötü argo İşimiz duman. Hâlimiz duman. ► esrar (II) \n",
    "argo dumana boğmak duman almak duman altı etmek duman altı olmak duman \n",
    "attırmak duman etmek dumanı doğru çıksın dumanı tepesinden çıkmak duman olmak duman vermek\n",
    "\"\"\""
   ]
  },
  {
   "cell_type": "code",
   "execution_count": null,
   "metadata": {},
   "outputs": [],
   "source": []
  },
  {
   "cell_type": "code",
   "execution_count": null,
   "metadata": {},
   "outputs": [],
   "source": [
    "def decode_sentence(sentence) -> list[int]:\n",
    "  # split sentence into words\n",
    "  words = sentence.split()\n",
    "  "
   ]
  }
 ],
 "metadata": {
  "kernelspec": {
   "display_name": "Python 3",
   "language": "python",
   "name": "python3"
  },
  "language_info": {
   "codemirror_mode": {
    "name": "ipython",
    "version": 3
   },
   "file_extension": ".py",
   "mimetype": "text/x-python",
   "name": "python",
   "nbconvert_exporter": "python",
   "pygments_lexer": "ipython3",
   "version": "3.9.6"
  }
 },
 "nbformat": 4,
 "nbformat_minor": 2
}
