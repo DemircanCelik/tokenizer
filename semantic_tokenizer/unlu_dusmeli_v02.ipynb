{
 "cells": [
  {
   "cell_type": "code",
   "execution_count": 46,
   "metadata": {},
   "outputs": [],
   "source": [
    "import requests\n",
    "\n",
    "cookies = {\n",
    "    'JSESSIONID': '195B8317D3E072305A4DE5FAF6F23A04',\n",
    "    '_ga_SK0P46Z03T': 'GS1.1.1736071923.1.1.1736071963.0.0.0',\n",
    "    '_ga': 'GA1.3.1066067018.1731827532',\n",
    "    '_ga_KFJXWPBN67': 'GS1.1.1731827532.1.1.1731827554.0.0.0',\n",
    "}\n",
    "\n",
    "headers = {\n",
    "    'Accept': 'text/html,application/xhtml+xml,application/xml;q=0.9,*/*;q=0.8',\n",
    "    # 'Cookie': 'JSESSIONID=195B8317D3E072305A4DE5FAF6F23A04; _ga_SK0P46Z03T=GS1.1.1736071923.1.1.1736071963.0.0.0; _ga=GA1.3.1066067018.1731827532; _ga_KFJXWPBN67=GS1.1.1731827532.1.1.1731827554.0.0.0',\n",
    "    # 'Accept-Encoding': 'gzip, deflate',\n",
    "    'Upgrade-Insecure-Requests': '1',\n",
    "    'User-Agent': 'Mozilla/5.0 (Macintosh; Intel Mac OS X 10_15_7) AppleWebKit/605.1.15 (KHTML, like Gecko) Version/18.2 Safari/605.1.15',\n",
    "    'Accept-Language': 'en-US,en;q=0.9',\n",
    "    'Connection': 'keep-alive',\n",
    "    'Priority': 'u=0, i',\n",
    "}\n",
    "\n",
    "response = requests.get('http://tools.nlp.itu.edu.tr/IsTurkish', cookies=cookies, headers=headers)"
   ]
  },
  {
   "cell_type": "code",
   "execution_count": 31,
   "metadata": {},
   "outputs": [],
   "source": [
    "import re\n",
    "def is_turkish(text):\n",
    "    # <textarea name=\"output\" class=\"text_area\" wrap=\"off\">zeynep: false\\r\\n</textarea>\n",
    "    match = re.search(r'<textarea name=\"output\" class=\"text_area\" wrap=\"off\">(.+): (.+)\\r\\n</textarea>', text)\n",
    "    if match:\n",
    "        return match.group(2) == 'true'\n",
    "    return False"
   ]
  },
  {
   "cell_type": "code",
   "execution_count": 32,
   "metadata": {},
   "outputs": [],
   "source": [
    "def check_is_turkish(word):\n",
    "    data = {\n",
    "        'input': word\n",
    "    }\n",
    "    response = requests.post('http://tools.nlp.itu.edu.tr/IsTurkish', cookies=cookies, headers=headers, data=data, verify=False)\n",
    "    return is_turkish(response.text)\n"
   ]
  },
  {
   "cell_type": "code",
   "execution_count": 47,
   "metadata": {},
   "outputs": [
    {
     "data": {
      "text/plain": [
       "False"
      ]
     },
     "execution_count": 47,
     "metadata": {},
     "output_type": "execute_result"
    }
   ],
   "source": [
    "check_is_turkish(\"pencil\")"
   ]
  },
  {
   "cell_type": "code",
   "execution_count": 48,
   "metadata": {},
   "outputs": [
    {
     "data": {
      "text/plain": [
       "True"
      ]
     },
     "execution_count": 48,
     "metadata": {},
     "output_type": "execute_result"
    }
   ],
   "source": [
    "check_is_turkish(\"kalemler\")"
   ]
  },
  {
   "cell_type": "code",
   "execution_count": 6,
   "metadata": {},
   "outputs": [],
   "source": [
    "kalın_unluler = [\"a\",\"ı\",\"o\",\"u\"]   \n",
    "ince_unluler = [\"e\",\"i\",\"ö\",\"ü\"]"
   ]
  },
  {
   "cell_type": "code",
   "execution_count": 38,
   "metadata": {},
   "outputs": [],
   "source": [
    "def unlu_dusmesine_ugrayabilirmi(word,kalın_unluler,ince_unluler):\n",
    "    count = 0\n",
    "    for i in range(len(word)):\n",
    "        if word[i] in \"aeıioöuü\":\n",
    "            count += 1\n",
    "    if count ==1:\n",
    "        return False\n",
    "    \n",
    "    kalın = False\n",
    "    ince = False\n",
    "    for i in range(len(word)):\n",
    "        if word[i] in kalın_unluler:\n",
    "            kalın = True\n",
    "        if word[i] in ince_unluler:\n",
    "            ince = True\n",
    "\n",
    "    if kalın == True and ince == True:\n",
    "        return False\n",
    "    \n",
    "    for i in range(len(word)-1,0,-1):\n",
    "        if word[i] in \"aeıioöuü\":\n",
    "            break\n",
    "    \n",
    "    if word[i] not in \"ıiuü\":\n",
    "        return False\n",
    "    \n",
    "    return True\n",
    "    "
   ]
  },
  {
   "cell_type": "code",
   "execution_count": 37,
   "metadata": {},
   "outputs": [],
   "source": [
    "def unlu_dusmesine___ugrat(word):\n",
    "    for i in range(len(word)-1,0,-1):\n",
    "            if word[i] in \"aeıioöuü\":\n",
    "                break\n",
    "    nw = word[:i] + word[i+1:] + word[i]\n",
    "    if check_is_turkish(nw) == True and word[len(word)-1] not in \"aeıioöuü\":\n",
    "         return word[:i] + word[i+1:]"
   ]
  },
  {
   "cell_type": "code",
   "execution_count": 35,
   "metadata": {},
   "outputs": [
    {
     "data": {
      "text/plain": [
       "('şekl', 'şekil')"
      ]
     },
     "execution_count": 35,
     "metadata": {},
     "output_type": "execute_result"
    }
   ],
   "source": [
    "kelime = \"şekil\"\n",
    "\n",
    "unlu_dusmesine___ugrat(kelime), kelime"
   ]
  },
  {
   "cell_type": "code",
   "execution_count": 36,
   "metadata": {},
   "outputs": [
    {
     "data": {
      "text/plain": [
       "(None, 'kalemler')"
      ]
     },
     "execution_count": 36,
     "metadata": {},
     "output_type": "execute_result"
    }
   ],
   "source": [
    "kelime = \"kalemler\"\n",
    "unlu_dusmesine___ugrat(kelime), kelime"
   ]
  },
  {
   "cell_type": "code",
   "execution_count": 24,
   "metadata": {},
   "outputs": [],
   "source": [
    "import json\n",
    "\n",
    "with open('kokler_v01.json') as f:\n",
    "    data = json.load(f)\n",
    "\n"
   ]
  },
  {
   "cell_type": "code",
   "execution_count": 39,
   "metadata": {},
   "outputs": [],
   "source": [
    "dictii = {}\n",
    "for key in list(data.keys()):\n",
    "    if dictii.get(key):\n",
    "        continue\n",
    "    \n",
    "    dictii[key] = data[key]\n",
    "    if unlu_dusmesine_ugrayabilirmi(key,kalın_unluler,ince_unluler):\n",
    "        if unlu_dusmesine___ugrat(key):\n",
    "            new_key = unlu_dusmesine___ugrat(key)\n",
    "            dictii[new_key] = data[key]\n",
    "    else:\n",
    "        continue    \n",
    "        \n",
    "    \n"
   ]
  },
  {
   "cell_type": "code",
   "execution_count": 40,
   "metadata": {},
   "outputs": [],
   "source": [
    "with open ('unlu_dusmeli_v02.json','w') as f:\n",
    "    json.dump(dictii,f,ensure_ascii=False)\n"
   ]
  },
  {
   "cell_type": "code",
   "execution_count": 12,
   "metadata": {},
   "outputs": [
    {
     "data": {
      "text/plain": [
       "44"
      ]
     },
     "execution_count": 12,
     "metadata": {},
     "output_type": "execute_result"
    }
   ],
   "source": [
    "data[\"şekil\"]"
   ]
  }
 ],
 "metadata": {
  "kernelspec": {
   "display_name": "Python 3",
   "language": "python",
   "name": "python3"
  },
  "language_info": {
   "codemirror_mode": {
    "name": "ipython",
    "version": 3
   },
   "file_extension": ".py",
   "mimetype": "text/x-python",
   "name": "python",
   "nbconvert_exporter": "python",
   "pygments_lexer": "ipython3",
   "version": "3.11.4"
  }
 },
 "nbformat": 4,
 "nbformat_minor": 2
}
