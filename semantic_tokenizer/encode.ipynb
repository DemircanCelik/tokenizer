{
 "cells": [
  {
   "cell_type": "markdown",
   "metadata": {},
   "source": [
    "&nbsp;\n",
    "#### *This file is implementation of the encoder describe at \"guncel_strateji.md\" file.*"
   ]
  },
  {
   "cell_type": "code",
   "execution_count": 2,
   "metadata": {},
   "outputs": [],
   "source": [
    "import json\n",
    "\n",
    "with open(\"./kokler_v02.json\", \"r\") as f:\n",
    "    kokler = json.load(f)\n",
    "    f.close()\n",
    "\n",
    "with open(\"./ekler_v01.json\", \"r\") as f:\n",
    "    ekler = json.load(f)\n",
    "    f.close()\n"
   ]
  },
  {
   "cell_type": "code",
   "execution_count": null,
   "metadata": {},
   "outputs": [],
   "source": [
    "semantic_tokens = [\"<_plural_>\", \"<_presence_>\"]\n",
    "others = []\n",
    "unknown = \"<UNKNOWN>\"\n",
    "space = \"<SPACE>\""
   ]
  },
  {
   "cell_type": "code",
   "execution_count": null,
   "metadata": {},
   "outputs": [],
   "source": [
    "# this function will be a part of tokenizer class later\n",
    "def encode_text(text):\n",
    "    words = text.split()\n",
    "    encoded_text = []\n",
    "    for word in words:\n",
    "        encoded_text.append(encode_word(word))\n",
    "        encoded_text.append(space)\n",
    "    return encoded_text\n",
    "\n",
    "def encode_word(word):\n",
    "    if word in kokler:\n",
    "        return \n",
    "    elif word in ekler:\n",
    "        return word\n",
    "    elif word in semantic_tokens:\n",
    "        return word\n",
    "    else:\n",
    "        return unknown\n",
    "    \n"
   ]
  }
 ],
 "metadata": {
  "kernelspec": {
   "display_name": "Python 3",
   "language": "python",
   "name": "python3"
  },
  "language_info": {
   "codemirror_mode": {
    "name": "ipython",
    "version": 3
   },
   "file_extension": ".py",
   "mimetype": "text/x-python",
   "name": "python",
   "nbconvert_exporter": "python",
   "pygments_lexer": "ipython3",
   "version": "3.12.5"
  }
 },
 "nbformat": 4,
 "nbformat_minor": 2
}
