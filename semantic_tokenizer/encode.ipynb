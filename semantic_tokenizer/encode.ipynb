{
 "cells": [
  {
   "cell_type": "markdown",
   "metadata": {},
   "source": [
    "&nbsp;\n",
    "#### *This file is implementation of the encoder describe at \"guncel_strateji.md\" file.*"
   ]
  },
  {
   "cell_type": "code",
   "execution_count": 127,
   "metadata": {},
   "outputs": [],
   "source": [
    "import json\n",
    "\n",
    "with open(\"./kokler_v02.json\", \"r\") as f:\n",
    "    kokler = json.load(f)\n",
    "    f.close()\n",
    "\n",
    "with open(\"./ekler_v02.json\", \"r\") as f:\n",
    "    ekler = json.load(f)\n",
    "    f.close()\n"
   ]
  },
  {
   "cell_type": "code",
   "execution_count": 128,
   "metadata": {},
   "outputs": [],
   "source": [
    "semantic_tokens = [\"__PLU__\", \"__LOC__\", \"__ABL__\"]\n",
    "others = []\n",
    "unknown = \"<UNKNOWN>\"\n",
    "space = \"<SPACE>\""
   ]
  },
  {
   "cell_type": "code",
   "execution_count": 138,
   "metadata": {},
   "outputs": [],
   "source": [
    "def encode_word(word):\n",
    "    encoded_word = []\n",
    "    \n",
    "    if word in kokler:\n",
    "        encode_word.append(kokler[word])\n",
    "    else:\n",
    "        for i in range(len(word)):\n",
    "            if word[:-i] in kokler:\n",
    "                encoded_word.append(kokler[word[:-i]])\n",
    "                suffixes = word[-i:]\n",
    "                break\n",
    "        if suffixes in ekler:\n",
    "                encoded_word.append(ekler[suffixes])\n",
    "        else:\n",
    "            while suffixes:\n",
    "                found = False\n",
    "                for j in range(len(suffixes), 0, -1):\n",
    "                    if suffixes[:j] in ekler:\n",
    "                        encoded_word.append(ekler[suffixes[:j]])\n",
    "                        suffixes = suffixes[j:]\n",
    "                        found = True\n",
    "                        break\n",
    "                if not found:\n",
    "                    break\n",
    "                \n",
    "    for i in range(len(encoded_word)):\n",
    "        for token in semantic_tokens:\n",
    "            if ekler[token] == encoded_word[i]:\n",
    "                encoded_word[i] = token\n",
    "                  \n",
    "    return encoded_word\n",
    "        "
   ]
  },
  {
   "cell_type": "code",
   "execution_count": 145,
   "metadata": {},
   "outputs": [
    {
     "name": "stdout",
     "output_type": "stream",
     "text": [
      "[[2231, '__PLU__', 221, '__LOC__']]\n"
     ]
    }
   ],
   "source": [
    "print(encode_text(\"merhabalarkida\"))"
   ]
  }
 ],
 "metadata": {
  "kernelspec": {
   "display_name": "Python 3",
   "language": "python",
   "name": "python3"
  },
  "language_info": {
   "codemirror_mode": {
    "name": "ipython",
    "version": 3
   },
   "file_extension": ".py",
   "mimetype": "text/x-python",
   "name": "python",
   "nbconvert_exporter": "python",
   "pygments_lexer": "ipython3",
   "version": "3.12.5"
  }
 },
 "nbformat": 4,
 "nbformat_minor": 2
}
