{
 "cells": [
  {
   "cell_type": "code",
   "execution_count": 64,
   "metadata": {},
   "outputs": [
    {
     "data": {
      "text/plain": [
       "25730"
      ]
     },
     "execution_count": 64,
     "metadata": {},
     "output_type": "execute_result"
    }
   ],
   "source": [
    "kokler = set()\n",
    "with open('kokler.txt', 'r') as f:\n",
    "    for line in f:\n",
    "        if len(line.strip()) > 0:\n",
    "          kokler.add(line.strip())\n",
    "\n",
    "# possible_kokler = possible_kokler + kokler\n",
    "for kok in kokler:\n",
    "    kokler.add(kok)\n",
    "\n",
    "len(kokler)"
   ]
  },
  {
   "cell_type": "code",
   "execution_count": 65,
   "metadata": {},
   "outputs": [
    {
     "name": "stdout",
     "output_type": "stream",
     "text": [
      "119\n"
     ]
    }
   ],
   "source": [
    "vowel = 'ıiuü'\n",
    "\n",
    "# check if a word finishes with l + vowel and kokler contains the word without l + vowel\n",
    "def check(word):\n",
    "    if len(word) > 4 and word[-2] == 'l' and word[-1] in vowel:\n",
    "        if word[:-2] in kokler:\n",
    "            return True\n",
    "    return False\n",
    "\n",
    "# check if a word finishes with l + vowel + k and kokler contains the word without l + vowel + k\n",
    "\n",
    "def check2(word):\n",
    "    if len(word) > 5 and word[-3] == 'c' and word[-2] in vowel and word[-1] == 'k':\n",
    "        if word[:-3] in kokler:\n",
    "            return True\n",
    "    return False\n",
    "\n",
    "ekli = set()\n",
    "# check all words in kokler set\n",
    "for kok in kokler:\n",
    "    if check(kok):\n",
    "        ekli.add(kok)\n",
    "\n",
    "print(len(ekli))\n",
    "# write ekli set to a file\n",
    "with open('ekli.txt', 'w') as f:\n",
    "    for ek in ekli:\n",
    "        f.write(ek + '\\n')"
   ]
  },
  {
   "cell_type": "code",
   "execution_count": 50,
   "metadata": {},
   "outputs": [
    {
     "name": "stdout",
     "output_type": "stream",
     "text": [
      "9804\n"
     ]
    }
   ],
   "source": [
    "# read ekli words from a file\n",
    "with open('ekli.txt', 'r') as f:\n",
    "    ekli = set(f.read().split('\\n'))\n",
    "\n",
    "# remove ekli words from kokler set\n",
    "for ek in ekli:\n",
    "    if ek in kokler:\n",
    "      kokler.remove(ek)\n",
    "\n",
    "print(len(kokler))"
   ]
  },
  {
   "cell_type": "code",
   "execution_count": 51,
   "metadata": {},
   "outputs": [
    {
     "data": {
      "text/plain": [
       "9804"
      ]
     },
     "execution_count": 51,
     "metadata": {},
     "output_type": "execute_result"
    }
   ],
   "source": [
    "with open('kokler.txt', 'w') as f:\n",
    "    for kok in kokler:\n",
    "        if len(kok) > 1:\n",
    "          f.write(kok + '\\n')\n",
    "len(kokler)"
   ]
  }
 ],
 "metadata": {
  "kernelspec": {
   "display_name": "Python 3",
   "language": "python",
   "name": "python3"
  },
  "language_info": {
   "codemirror_mode": {
    "name": "ipython",
    "version": 3
   },
   "file_extension": ".py",
   "mimetype": "text/x-python",
   "name": "python",
   "nbconvert_exporter": "python",
   "pygments_lexer": "ipython3",
   "version": "3.9.6"
  }
 },
 "nbformat": 4,
 "nbformat_minor": 2
}
